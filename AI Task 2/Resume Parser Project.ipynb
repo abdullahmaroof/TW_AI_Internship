{
 "cells": [
  {
   "cell_type": "code",
   "execution_count": 1,
   "id": "bb564e6e",
   "metadata": {},
   "outputs": [],
   "source": [
    "import re\n",
    "import pdfplumber\n",
    "import docx\n",
    "\n",
    "class ResumeParser:\n",
    "    def __init__(self):\n",
    "        self.phone_number_pattern = re.compile(r\"(\\+?\\d{1,2}\\s?)?(\\(\\d{1,4}\\))?[.\\-\\s]?\\d{1,5}[.\\-\\s]?\\d{1,5}[.\\-\\s]?\\d{1,9}\")\n",
    "        self.email_pattern = re.compile(r\"[a-zA-Z0-9._%+-]+@[a-zA-Z0-9.-]+\\.[a-zA-Z]{2,}\")\n",
    "        self.skills_list = [\"python\", \"c++\", \"machine learning\", \"data analysis\", \"communication\",\"artificial Intelligence\"]\n",
    "\n",
    "    def extract_contact_details(self, text):\n",
    "        phone_numbers = re.findall(self.phone_number_pattern, text)\n",
    "        emails = re.findall(self.email_pattern, text)\n",
    "        return {\"phone_numbers\": phone_numbers, \"emails\": emails}\n",
    "\n",
    "    def extract_work_experience(self, text):\n",
    "        work_experience_pattern = re.compile(r\"work\\s*experience\", re.IGNORECASE)\n",
    "        matches = re.finditer(work_experience_pattern, text)\n",
    "        return [text[match.end():].strip()[:200] for match in matches]\n",
    "\n",
    "    def extract_education(self, text):\n",
    "        education_pattern = re.compile(r\"education\", re.IGNORECASE)\n",
    "        matches = re.finditer(education_pattern, text)\n",
    "        return [text[match.end():].strip()[:200] for match in matches]\n",
    "\n",
    "    def extract_skills(self, text):\n",
    "        skills_found = [skill for skill in self.skills_list if skill in text.lower()]\n",
    "        return skills_found\n",
    "\n",
    "    def parse_pdf(self, pdf_path):\n",
    "        with pdfplumber.open(pdf_path) as pdf:\n",
    "            text = ''\n",
    "            for page in pdf.pages:\n",
    "                text += page.extract_text()\n",
    "        return text\n",
    "\n",
    "    def parse_docx(self, docx_path):\n",
    "        doc = docx.Document(docx_path)\n",
    "        text = '\\n'.join([paragraph.text for paragraph in doc.paragraphs])\n",
    "        return text\n",
    "\n",
    "    def parse_txt(self, txt_path):\n",
    "        with open(txt_path, 'r', encoding='utf-8') as file:\n",
    "            text = file.read()\n",
    "        return text"
   ]
  },
  {
   "cell_type": "code",
   "execution_count": 2,
   "id": "9f701624",
   "metadata": {},
   "outputs": [],
   "source": [
    "resume_parser = ResumeParser()"
   ]
  },
  {
   "cell_type": "code",
   "execution_count": 3,
   "id": "beb2d213",
   "metadata": {},
   "outputs": [
    {
     "name": "stdout",
     "output_type": "stream",
     "text": [
      "PDF Contact Details: {'phone_numbers': [('', ''), ('+92', ''), ('+92', ''), ('', ''), ('90', ''), ('', ''), ('', ''), ('', ''), ('', ''), ('', ''), ('', ''), ('', ''), ('', ''), ('', ''), ('', ''), ('', ''), ('', ''), ('', ''), ('', ''), ('', ''), ('', ''), ('', ''), ('', ''), ('', ''), ('', ''), ('', ''), ('', ''), ('', ''), ('', ''), ('', ''), ('', ''), ('', ''), ('', ''), ('', ''), ('', ''), ('', ''), ('', ''), ('', ''), ('', ''), ('', ''), ('', ''), ('', ''), ('', ''), ('', ''), ('', ''), ('', ''), ('', '')], 'emails': ['abdullahmaroof597@gamil.com']}\n",
      "PDF Work Experience: []\n",
      "PDF Education: ['DECEMBER 2023\\nBS Artificial Intelligence / Superior University Lahore\\nI had completed my Graduation in BS Artificial Intelligence Degree from Superior University. My CGPA is\\n3.69. Main courses were Ma']\n",
      "PDF Skills: ['python', 'machine learning', 'data analysis', 'communication']\n"
     ]
    }
   ],
   "source": [
    "resume_pdf_path = 'D:/PC Data/my doc/My Resume - Abdullah Maroof.pdf'\n",
    "\n",
    "pdf_text = resume_parser.parse_pdf(resume_pdf_path)\n",
    "\n",
    "contact_details_pdf = resume_parser.extract_contact_details(pdf_text)\n",
    "work_experience_pdf = resume_parser.extract_work_experience(pdf_text)\n",
    "education_pdf = resume_parser.extract_education(pdf_text)\n",
    "skills_pdf = resume_parser.extract_skills(pdf_text)\n",
    "\n",
    "print(\"PDF Contact Details:\", contact_details_pdf)\n",
    "print(\"PDF Work Experience:\", work_experience_pdf)\n",
    "print(\"PDF Education:\", education_pdf)\n",
    "print(\"PDF Skills:\", skills_pdf)"
   ]
  },
  {
   "cell_type": "code",
   "execution_count": 4,
   "id": "cc042ea0",
   "metadata": {},
   "outputs": [
    {
     "name": "stdout",
     "output_type": "stream",
     "text": [
      "DOCX Contact Details: {'phone_numbers': [('', ''), ('', ''), ('', ''), ('', ''), ('', ''), ('', ''), ('', ''), ('', ''), ('', ''), ('', ''), ('', ''), ('', ''), ('', ''), ('', ''), ('', ''), ('', ''), ('', ''), ('', ''), ('', ''), ('', ''), ('', ''), ('', ''), ('', ''), ('', ''), ('', ''), ('', ''), ('', ''), ('', ''), ('', ''), ('', ''), ('', ''), ('', ''), ('', ''), ('', ''), ('', ''), ('', ''), ('', ''), ('', ''), ('', ''), ('', ''), ('', ''), ('', '')], 'emails': []}\n",
      "DOCX Work Experience: []\n",
      "DOCX Education: []\n",
      "DOCX Skills: ['python', 'machine learning', 'data analysis', 'communication']\n"
     ]
    }
   ],
   "source": [
    "resume_docx_path = 'D:/PC Data/my doc/My Resume - Abdullah Maroof.docx'\n",
    "\n",
    "docx_text = resume_parser.parse_docx(resume_docx_path)\n",
    "\n",
    "contact_details_docx = resume_parser.extract_contact_details(docx_text)\n",
    "work_experience_docx = resume_parser.extract_work_experience(docx_text)\n",
    "education_docx = resume_parser.extract_education(docx_text)\n",
    "skills_docx = resume_parser.extract_skills(docx_text)\n",
    "\n",
    "print(\"DOCX Contact Details:\", contact_details_docx)\n",
    "print(\"DOCX Work Experience:\", work_experience_docx)\n",
    "print(\"DOCX Education:\", education_docx)\n",
    "print(\"DOCX Skills:\", skills_docx)"
   ]
  },
  {
   "cell_type": "code",
   "execution_count": 5,
   "id": "3196a816",
   "metadata": {},
   "outputs": [
    {
     "name": "stdout",
     "output_type": "stream",
     "text": [
      "TXT Contact Details: {'phone_numbers': [('', ''), ('', ''), ('', '(555)'), ('', ''), ('', ''), ('', ''), ('', '')], 'emails': ['john.doe@example.com']}\n",
      "TXT Work Experience: [':\\nSoftware Developer\\nABC Tech Solutions, Cityville, ST\\nJune 2020 - Present\\n- Developed and maintained web applications using Python and Django.\\n- Collaborated with cross-functional teams to design and']\n",
      "TXT Education: [':\\nBachelor of Science in Computer Science\\nXYZ University, Cityville, ST\\nGraduated: May 2020\\n\\nWork Experience:\\nSoftware Developer\\nABC Tech Solutions, Cityville, ST\\nJune 2020 - Present\\n- Developed and m']\n",
      "TXT Skills: ['python', 'data analysis']\n"
     ]
    }
   ],
   "source": [
    "resume_txt_path = 'C:/Users/Abdullah Maroof/Documents/CV.txt'\n",
    "txt_text = resume_parser.parse_txt(resume_txt_path)\n",
    "contact_details_txt = resume_parser.extract_contact_details(txt_text)\n",
    "work_experience_txt = resume_parser.extract_work_experience(txt_text)\n",
    "education_txt = resume_parser.extract_education(txt_text)\n",
    "skills_txt = resume_parser.extract_skills(txt_text)\n",
    "\n",
    "print(\"TXT Contact Details:\", contact_details_txt)\n",
    "print(\"TXT Work Experience:\", work_experience_txt)\n",
    "print(\"TXT Education:\", education_txt)\n",
    "print(\"TXT Skills:\", skills_txt)"
   ]
  },
  {
   "cell_type": "code",
   "execution_count": null,
   "id": "3d72ecbd",
   "metadata": {},
   "outputs": [],
   "source": []
  },
  {
   "cell_type": "code",
   "execution_count": null,
   "id": "39e3da8e",
   "metadata": {},
   "outputs": [],
   "source": []
  }
 ],
 "metadata": {
  "kernelspec": {
   "display_name": "Python 3 (ipykernel)",
   "language": "python",
   "name": "python3"
  },
  "language_info": {
   "codemirror_mode": {
    "name": "ipython",
    "version": 3
   },
   "file_extension": ".py",
   "mimetype": "text/x-python",
   "name": "python",
   "nbconvert_exporter": "python",
   "pygments_lexer": "ipython3",
   "version": "3.11.5"
  }
 },
 "nbformat": 4,
 "nbformat_minor": 5
}
